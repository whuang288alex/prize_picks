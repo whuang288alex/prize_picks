{
 "cells": [
  {
   "cell_type": "code",
   "execution_count": 1,
   "metadata": {},
   "outputs": [],
   "source": [
    "# import sqlite3\n",
    "# conn = sqlite3.connect('../database.db')\n",
    "# c = conn.cursor()\n",
    "# c.execute('''DROP TABLE PlayerStats''')\n",
    "# conn.commit()"
   ]
  },
  {
   "cell_type": "code",
   "execution_count": 8,
   "metadata": {},
   "outputs": [],
   "source": [
    "# import sqlite3\n",
    "# conn = sqlite3.connect('../database.db')\n",
    "# c = conn.cursor()\n",
    "# c.execute('''DROP TABLE TeamStats''')\n",
    "# conn.commit()"
   ]
  },
  {
   "cell_type": "code",
   "execution_count": 9,
   "metadata": {},
   "outputs": [
    {
     "name": "stdout",
     "output_type": "stream",
     "text": [
      "[('PlayerStats',)]\n"
     ]
    }
   ],
   "source": [
    "import sqlite3\n",
    "conn = sqlite3.connect('../database.db')\n",
    "c = conn.cursor()\n",
    "c.execute(\"SELECT name FROM sqlite_master WHERE type='table';\")\n",
    "print(c.fetchall())"
   ]
  },
  {
   "cell_type": "markdown",
   "metadata": {},
   "source": [
    "# PlayerStats"
   ]
  },
  {
   "cell_type": "code",
   "execution_count": 4,
   "metadata": {},
   "outputs": [],
   "source": [
    "import os\n",
    "import sqlite3\n",
    "\n",
    "conn = sqlite3.connect('../database.db')\n",
    "c = conn.cursor()\n",
    "c.execute('''CREATE TABLE IF NOT EXISTS PlayerStats (\n",
    "            season_id INTEGER NOT NULL,\n",
    "            player_id INTEGER NOT NULL,\n",
    "            game_id INTEGER NOT NULL,\n",
    "            game_date TEXT NOT NULL,\n",
    "            opponent_team_id INTEGER NOT NULL,\n",
    "            minutes INTEGER,\n",
    "            home_game BOOLEAN,\n",
    "            points INTEGER,\n",
    "            field_goals_made INTEGER,\n",
    "            field_goals_attempted INTEGER,\n",
    "            three_point_field_goals_made INTEGER,\n",
    "            three_point_field_goals_attempted INTEGER,\n",
    "            free_throws_made INTEGER,\n",
    "            free_throws_attempted INTEGER,\n",
    "            offensive_rebounds INTEGER,\n",
    "            defensive_rebounds INTEGER,\n",
    "            total_rebounds INTEGER,\n",
    "            assists INTEGER,\n",
    "            steals INTEGER,\n",
    "            blocks INTEGER,\n",
    "            turnovers INTEGER,\n",
    "            PRIMARY KEY (season_id, player_id, game_id)\n",
    "        );''')\n",
    "conn.commit()"
   ]
  },
  {
   "cell_type": "code",
   "execution_count": 5,
   "metadata": {},
   "outputs": [
    {
     "name": "stdout",
     "output_type": "stream",
     "text": [
      "[]\n"
     ]
    }
   ],
   "source": [
    "import os\n",
    "import sqlite3\n",
    "\n",
    "conn = sqlite3.connect('../database.db')\n",
    "c = conn.cursor()\n",
    "c.execute('''SELECT * from PlayerStats LIMIT 10''')\n",
    "print(c.fetchall())\n",
    "conn.commit()"
   ]
  },
  {
   "cell_type": "code",
   "execution_count": 6,
   "metadata": {},
   "outputs": [
    {
     "name": "stdout",
     "output_type": "stream",
     "text": [
      "[]\n"
     ]
    }
   ],
   "source": [
    "import os\n",
    "import sqlite3\n",
    "from nba_api.stats.endpoints import playergamelog\n",
    "from nba_api.stats.static import players\n",
    "\n",
    "players_list = players.find_players_by_full_name('James Harden')\n",
    "pid  = players_list[0]['id']\n",
    "conn = sqlite3.connect('../database.db')\n",
    "c = conn.cursor()\n",
    "c.execute(f'''SELECT game_date, points from PlayerStats WHERE player_id={pid} ORDER BY game_date  DESC LIMIT 5''')\n",
    "print(c.fetchall())\n",
    "conn.commit()"
   ]
  },
  {
   "cell_type": "markdown",
   "metadata": {},
   "source": [
    "# TeamStats"
   ]
  },
  {
   "cell_type": "code",
   "execution_count": 10,
   "metadata": {},
   "outputs": [],
   "source": [
    "import os\n",
    "import sqlite3\n",
    "\n",
    "conn = sqlite3.connect('../database.db')\n",
    "c = conn.cursor()\n",
    "c.execute('''CREATE TABLE IF NOT EXISTS TeamStats (\n",
    "            game_id INTEGER NOT NULL,\n",
    "            team_id INTEGER NOT NULL,\n",
    "            opponent_team_id INTEGER NOT NULL,\n",
    "            game_date TEXT NOT NULL,\n",
    "            home_game BOOLEAN NOT NULL,\n",
    "            defensive_rating REAL NOT NULL,\n",
    "            effective_defensive_rating REAL NOT NULL,\n",
    "            pace REAL NOT NULL,\n",
    "            opponent_score INTEGER NOT NULL,\n",
    "            opponent_field_goals_made INTEGER NOT NULL,\n",
    "            opponent_field_goals_attempted INTEGER NOT NULL,\n",
    "            opponent_three_point_field_goals_made INTEGER NOT NULL,\n",
    "            opponent_three_point_field_goals_attempted INTEGER NOT NULL,\n",
    "            opponent_free_throws_made INTEGER NOT NULL,\n",
    "            opponent_free_throws_attempted INTEGER NOT NULL,\n",
    "            opponent_defensive_rebounds INTEGER NOT NULL,\n",
    "            opponent_offensive_rebounds INTEGER NOT NULL,\n",
    "            opponent_total_rebounds INTEGER NOT NULL,\n",
    "            opponent_assists INTEGER NOT NULL,\n",
    "            opponent_steals INTEGER NOT NULL,\n",
    "            opponent_blocks INTEGER NOT NULL,\n",
    "            opponent_turnovers INTEGER NOT NULL,\n",
    "            PRIMARY KEY (team_id, game_date)\n",
    "        );''')\n",
    "conn.commit()"
   ]
  },
  {
   "cell_type": "code",
   "execution_count": 13,
   "metadata": {},
   "outputs": [
    {
     "name": "stdout",
     "output_type": "stream",
     "text": [
      "[(98.0,), (97.5,), (94.5,), (98.0,), (100.0,), (94.0,), (98.0,), (99.0,), (93.0,), (95.0,), (102.0,), (94.5,), (100.53,), (95.5,)]\n"
     ]
    }
   ],
   "source": [
    "import os\n",
    "import sqlite3\n",
    "from nba_api.stats.endpoints import playergamelog\n",
    "from nba_api.stats.static import teams\n",
    "\n",
    "team_list = teams.find_teams_by_full_name('Houston Rockets')\n",
    "tid = team_list[0]['id']\n",
    "conn = sqlite3.connect('../database.db')\n",
    "c = conn.cursor()\n",
    "c.execute(f'''SELECT pace from TeamStats WHERE team_id={tid} ORDER BY game_date DESC LIMIT 20''')\n",
    "print(c.fetchall())\n",
    "conn.commit()"
   ]
  }
 ],
 "metadata": {
  "kernelspec": {
   "display_name": "Python 3",
   "language": "python",
   "name": "python3"
  },
  "language_info": {
   "codemirror_mode": {
    "name": "ipython",
    "version": 3
   },
   "file_extension": ".py",
   "mimetype": "text/x-python",
   "name": "python",
   "nbconvert_exporter": "python",
   "pygments_lexer": "ipython3",
   "version": "3.9.18"
  }
 },
 "nbformat": 4,
 "nbformat_minor": 2
}
