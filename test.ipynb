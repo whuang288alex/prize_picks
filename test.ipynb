{
 "cells": [
  {
   "cell_type": "code",
   "execution_count": null,
   "metadata": {},
   "outputs": [],
   "source": [
    "from nba_api.stats.endpoints import playercareerstats\n",
    "\n",
    "# Nikola Jokić\n",
    "career = playercareerstats.PlayerCareerStats(player_id='203999') \n",
    "\n",
    "# pandas data frames (optional: pip install pandas)\n",
    "career.get_data_frames()[0]\n",
    "\n",
    "# json\n",
    "career.get_json()\n",
    "\n",
    "# dictionary\n",
    "career.get_dict()"
   ]
  }
 ],
 "metadata": {
  "language_info": {
   "name": "python"
  }
 },
 "nbformat": 4,
 "nbformat_minor": 2
}
